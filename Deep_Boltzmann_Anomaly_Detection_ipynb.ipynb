{
  "nbformat": 4,
  "nbformat_minor": 0,
  "metadata": {
    "colab": {
      "provenance": [],
      "authorship_tag": "ABX9TyP+Nk95aczXTFUo1+S9ef8g",
      "include_colab_link": true
    },
    "kernelspec": {
      "name": "python3",
      "display_name": "Python 3"
    },
    "language_info": {
      "name": "python"
    }
  },
  "cells": [
    {
      "cell_type": "markdown",
      "metadata": {
        "id": "view-in-github",
        "colab_type": "text"
      },
      "source": [
        "<a href=\"https://colab.research.google.com/github/PLivdan/Notebooks/blob/main/Deep_Boltzmann_Anomaly_Detection_ipynb.ipynb\" target=\"_parent\"><img src=\"https://colab.research.google.com/assets/colab-badge.svg\" alt=\"Open In Colab\"/></a>"
      ]
    },
    {
      "cell_type": "code",
      "execution_count": null,
      "metadata": {
        "id": "klnrRjv8KZse"
      },
      "outputs": [],
      "source": [
        "from keras.datasets import mnist\n",
        "import numpy as np\n",
        "\n",
        "(train_images, train_labels), (test_images, test_labels) = mnist.load_data()\n",
        "\n",
        "# Flatten and normalize\n",
        "train_images = train_images.reshape((60000, 28*28)).astype(\"float32\") / 255.0\n",
        "test_images = test_images.reshape((10000, 28*28)).astype(\"float32\") / 255.0"
      ]
    },
    {
      "cell_type": "code",
      "source": [
        "class DeepBoltzmannMachine:\n",
        "    def __init__(self, layers):\n",
        "        self.layers = layers\n",
        "        self.weights = [np.random.randn(layers[i], layers[i+1]) * 0.1 for i in range(len(layers) - 1)]\n",
        "        self.h_bias = [np.zeros((1, n)) for n in layers[1:]]\n",
        "        self.v_bias = np.zeros((1, layers[0]))\n",
        "\n",
        "    def sigmoid(self, x):\n",
        "        return 1 / (1 + np.exp(-x))\n",
        "\n",
        "    def forward(self, data):\n",
        "        h = data\n",
        "        for w, hb in zip(self.weights, self.h_bias):\n",
        "            h = self.sigmoid(h.dot(w) + hb)\n",
        "        return h\n",
        "\n",
        "    def backward(self, data):\n",
        "        v = data\n",
        "        for w, vb in reversed(list(zip(self.weights, [self.v_bias] + self.h_bias[:-1]))):\n",
        "            v = self.sigmoid(v.dot(w.T) + vb)\n",
        "        return v\n",
        "\n",
        "    def contrastive_divergence(self, v0, k=1):\n",
        "        h0_prob = self.sigmoid(v0.dot(self.weights[0]) + self.h_bias[0])\n",
        "        h0 = (h0_prob > np.random.rand(*h0_prob.shape)).astype(int)\n",
        "\n",
        "        v_k = v0\n",
        "        h_k = h0\n",
        "        for _ in range(k):\n",
        "            v_k = self.sigmoid(h_k.dot(self.weights[0].T) + self.v_bias)\n",
        "            h_k_prob = self.sigmoid(v_k.dot(self.weights[0]) + self.h_bias[0])\n",
        "            h_k = (h_k_prob > np.random.rand(*h_k_prob.shape)).astype(int)\n",
        "\n",
        "\n",
        "        return v0, h0, v_k, h_k\n",
        "\n",
        "    def update_weights(self, v0, h0, vk, hk, lr=0.1):\n",
        "        self.weights[0] += lr * (v0.T.dot(h0) - vk.T.dot(hk)) / v0.shape[0]\n",
        "        self.h_bias[0] += lr * np.sum(h0 - hk, axis=0) / v0.shape[0]\n",
        "        self.v_bias += lr * np.sum(v0 - vk, axis=0) / v0.shape[0]\n",
        "\n",
        "    def train(self, data, epochs=5, batch_size=10, lr=0.1, k=1):\n",
        "        for epoch in range(epochs):\n",
        "            for i in range(0, data.shape[0], batch_size):\n",
        "                batch = data[i:i+batch_size]\n",
        "                v0, h0, vk, hk = self.contrastive_divergence(batch, k)\n",
        "                self.update_weights(v0, h0, vk, hk, lr)"
      ],
      "metadata": {
        "id": "iXPStlheKt3h"
      },
      "execution_count": null,
      "outputs": []
    },
    {
      "cell_type": "code",
      "source": [
        "dbm = DeepBoltzmannMachine([784, 500])\n",
        "dbm.train(train_images, epochs=5)"
      ],
      "metadata": {
        "id": "cZKedfXnK9k4"
      },
      "execution_count": null,
      "outputs": []
    },
    {
      "cell_type": "code",
      "source": [
        "import matplotlib.pyplot as plt\n",
        "\n",
        "# Select an image from the test set\n",
        "test_image = test_images[4]\n",
        "\n",
        "# Forward and backward pass to reconstruct the image\n",
        "hidden = dbm.forward(test_image.reshape(1, -1))\n",
        "reconstructed = dbm.backward(hidden)\n",
        "\n",
        "# Display the original and reconstructed images\n",
        "plt.figure(figsize=(10, 5))\n",
        "\n",
        "plt.subplot(1, 2, 1)\n",
        "plt.title('Original Image')\n",
        "plt.imshow(test_image.reshape(28, 28), cmap='gray')\n",
        "\n",
        "plt.subplot(1, 2, 2)\n",
        "plt.title('Reconstructed Image')\n",
        "plt.imshow(reconstructed.reshape(28, 28), cmap='gray')\n",
        "\n",
        "plt.show()"
      ],
      "metadata": {
        "colab": {
          "base_uri": "https://localhost:8080/",
          "height": 435
        },
        "id": "s2wPG0DxK_gO",
        "outputId": "079977dd-8324-4830-b722-95689cde248d"
      },
      "execution_count": null,
      "outputs": [
        {
          "output_type": "display_data",
          "data": {
            "text/plain": [
              "<Figure size 1000x500 with 2 Axes>"
            ],
            "image/png": "[encoded data removed]"
          },
          "metadata": {}
        }
      ]
    },
    {
      "cell_type": "code",
      "source": [
        "# Compute reconstruction error\n",
        "reconstructed_images = dbm.backward(dbm.forward(test_images))\n",
        "reconstruction_error = np.mean((test_images - reconstructed_images)**2, axis=1)\n",
        "\n",
        "# Flag as anomaly if error is above a certain threshold\n",
        "threshold = np.percentile(reconstruction_error, 99.9)  # Hypothetical threshold\n",
        "anomalies = np.where(reconstruction_error > threshold)[0]"
      ],
      "metadata": {
        "id": "lhZ1D2g4Nuwy"
      },
      "execution_count": null,
      "outputs": []
    },
    {
      "cell_type": "code",
      "source": [
        "# Fetch the corresponding anomaly images from the test set\n",
        "anomaly_images = test_images[anomalies]\n",
        "\n",
        "# Plotting the anomaly images\n",
        "num_anomalies = len(anomalies)\n",
        "plt.figure(figsize=(20, 4 * int(np.ceil(num_anomalies / 10))))\n",
        "for index, image in enumerate(anomaly_images):\n",
        "    plt.subplot(int(np.ceil(num_anomalies / 10)), 10, index + 1)\n",
        "    plt.imshow(image.reshape(28, 28), cmap='gray')\n",
        "    plt.axis('off')\n",
        "plt.show()"
      ],
      "metadata": {
        "colab": {
          "base_uri": "https://localhost:8080/",
          "height": 144
        },
        "id": "CGO8r26QNxWY",
        "outputId": "22c501ec-8e1c-4d83-9b95-a4102ae9539b"
      },
      "execution_count": null,
      "outputs": [
        {
          "output_type": "display_data",
          "data": {
            "text/plain": [
              "<Figure size 2000x400 with 10 Axes>"
            ],
            "image/png": "[encoded data removed]"
          },
          "metadata": {}
        }
      ]
    },
    {
      "cell_type": "code",
      "source": [],
      "metadata": {
        "id": "CEQNJEqFOOtC"
      },
      "execution_count": null,
      "outputs": []
    }
  ]
}